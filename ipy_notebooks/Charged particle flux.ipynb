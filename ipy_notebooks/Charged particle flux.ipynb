{
 "metadata": {
  "name": "Charged particle flux"
 },
 "nbformat": 3,
 "nbformat_minor": 0,
 "worksheets": [
  {
   "cells": [
    {
     "cell_type": "code",
     "collapsed": false,
     "input": [
      "from ValueWithError import ValueWithError as Value"
     ],
     "language": "python",
     "metadata": {},
     "outputs": [],
     "prompt_number": 1
    },
    {
     "cell_type": "code",
     "collapsed": false,
     "input": [
      "# Convert the basic 1D data into an appropriate form & calculated errors etc.\n",
      "v = [{\"x\":  0, \"v\": 2151736, \"v_off\":30, \"s\":1255, \"s_off\":381, \"k\":1},\n",
      "     {\"x\": -5, \"v\": 1438685, \"v_off\":30, \"s\":1286, \"s_off\":381, \"k\":1},\n",
      "     {\"x\":-15, \"v\":  446302, \"v_off\":30, \"s\":1212, \"s_off\":381, \"k\":1},\n",
      "     {\"x\":-15, \"v\":  502596, \"v_off\":30, \"s\":1208, \"s_off\":381, \"k\":1},\n",
      "     {\"x\":  5, \"v\": 1663702, \"v_off\":83, \"s\":1298, \"s_off\":398, \"k\":1.646},\n",
      "     {\"x\":  5, \"v\": 1420836, \"v_off\":83, \"s\":1142, \"s_off\":398, \"k\":1.646},\n",
      "     {\"x\": 15, \"v\": 1080170, \"v_off\":83, \"s\":1336, \"s_off\":398, \"k\":1.646},\n",
      "     {\"x\": 15, \"v\": 1185051, \"v_off\":83, \"s\":1371, \"s_off\":398, \"k\":1.646},\n",
      "     {\"x\":  0, \"v\": 1307015, \"v_off\":34, \"s\":1298, \"s_off\":404, \"k\":1.646}]\n",
      "t = Value(50) # how long the count was taken for\n",
      "s_c = 0.03408 # conversion from SEC to current\n",
      "for e in v:\n",
      "    e['s_c']=s_c\n",
      "    for f in (\"v\",\"v_off\",\"s\",\"s_off\"):\n",
      "        # make ValueWithError and convert to Hz\n",
      "        e[f] = Value(e[f])/t\n",
      "\n",
      "# Calculate the scaling factor and save it as required\n",
      "factor = (v[0][\"v\"]-v[0][\"v_off\"])/(v[-1][\"v\"]-v[-1][\"v_off\"])\n",
      "print \"scaling factor: {:5.3f} +/- {:3.1f}\".format(factor.value, factor.error)\n",
      "for e in v:\n",
      "    if e[\"k\"] > 1:\n",
      "        e[\"k\"] = factor\n",
      "    else:\n",
      "        e['k'] = Value(1,0)"
     ],
     "language": "python",
     "metadata": {},
     "outputs": [
      {
       "output_type": "stream",
       "stream": "stdout",
       "text": [
        "scaling factor: 1.646 +/- 0.3\n"
       ]
      }
     ],
     "prompt_number": 28
    },
    {
     "cell_type": "code",
     "collapsed": false,
     "input": [
      "def get_flux(v,v_off,s,s_off,s_c,k,*args,**kwargs):\n",
      "    count =k*(v-v_off)\n",
      "    current =s_c*(s-s_off) \n",
      "    return count/current\n",
      "\n",
      "for e in v:\n",
      "    e['f'] = get_flux(**e)\n",
      "    "
     ],
     "language": "python",
     "metadata": {},
     "outputs": [],
     "prompt_number": 32
    },
    {
     "cell_type": "code",
     "collapsed": false,
     "input": [
      "fmt = \"{x:3d}  &  {v.value:5.0f}  &  {v.error:5.0f}  &  {v_off.value:4.1f}  &  {v_off.error:4.3f}  &  \"\n",
      "fmt2 = \"{s.value:5.0f}  &  {s.error:5.0f}  &  {s_off.value:4.1f}  &  {s_off.error:4.3f}  &  \"\n",
      "fmt3 = \"{k.value:3.1f}  &  {k.error:3.1f}  &  {f.value:5.0f}  &  {f.error:4.0f} \\\\\\\\\"\n",
      "\n",
      "for e in v:\n",
      "    print fmt.format(**e),\n",
      "    print fmt2.format(**e),\n",
      "    print fmt3.format(**e)"
     ],
     "language": "python",
     "metadata": {},
     "outputs": [
      {
       "output_type": "stream",
       "stream": "stdout",
       "text": [
        "  0  &  43035  &   6086  &   0.6  &  0.139  &      25  &      4  &   7.6  &  1.146  &   1.0  &  1.0  &  72239  &  18724 \\\\\n",
        " -5  &  28774  &   4069  &   0.6  &  0.139  &      26  &      4  &   7.6  &  1.146  &   1.0  &  1.0  &  46645  &  11980 \\\\\n",
        "-15  &   8926  &   1262  &   0.6  &  0.139  &      24  &      3  &   7.6  &  1.146  &   1.0  &  1.0  &  15758  &  4141 \\\\\n",
        "-15  &  10052  &   1422  &   0.6  &  0.139  &      24  &      3  &   7.6  &  1.146  &   1.0  &  1.0  &  17832  &  4692 \\\\\n",
        "  5  &  33274  &   4706  &   1.7  &  0.297  &      26  &      4  &   8.0  &  1.194  &   1.6  &  1.6  &  89295  &  29292 \\\\\n",
        "  5  &  28417  &   4019  &   1.7  &  0.297  &      23  &      3  &   8.0  &  1.194  &   1.6  &  1.6  &  92249  &  31369 \\\\\n",
        " 15  &  21603  &   3055  &   1.7  &  0.297  &      27  &      4  &   8.0  &  1.194  &   1.6  &  1.6  &  55625  &  18123 \\\\\n",
        " 15  &  23701  &   3352  &   1.7  &  0.297  &      27  &      4  &   8.0  &  1.194  &   1.6  &  1.6  &  58831  &  19057 \\\\\n",
        "  0  &  26140  &   3697  &   0.7  &  0.151  &      26  &      4  &   8.1  &  1.211  &   1.6  &  1.6  &  70623  &  23250 \\\\\n"
       ]
      }
     ],
     "prompt_number": 33
    },
    {
     "cell_type": "code",
     "collapsed": false,
     "input": [],
     "language": "python",
     "metadata": {},
     "outputs": []
    }
   ],
   "metadata": {}
  }
 ]
}